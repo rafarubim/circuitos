{
 "cells": [
  {
   "cell_type": "markdown",
   "metadata": {},
   "source": [
    "# Lab de Circuitos - Preparatório 7\n",
    "## Rafael Rubim Cabral - 1511068\n",
    "\n"
   ]
  },
  {
   "cell_type": "markdown",
   "metadata": {},
   "source": [
    "### 1)\n",
    "### a)\n",
    "\n",
    "&emsp;O pedaço do circuito conectado ao terminal inversor do AmpOp está \"isolado\" do resto do circuito, pois nâo há corrente nesse terminal. Em $t = 0^{-}$, no regime permanente, o capacitor é como um aberto portanto a tensão no terminal inversor é o divisor de tensões com $V_{in}$, $R_{1}$ e $R_{2}$. Após o desligamento de $V_{in}$, o capacitor descarrega através das resistências em paralelo $R_{1}$ e $R_{2}$. A todo momento, a tensão no terminal inversor é a d.d.p $V_{c}$ no capacitor. O AmpOp é um comparador que acende um LED quando $V_{ref} > V_{c}$. Supondo que inicialmente ($t = 0^{-}$) $V_{c} > V_{ref}$, o LED estará apagado até o capacitor ter descarregado o suficente de maneira que $V_{c} < V_{ref}$."
   ]
  },
  {
   "cell_type": "markdown",
   "metadata": {},
   "source": [
    "### b)\n",
    "\n",
    "&emsp;Como comentado acima, $V_{ref}$ é a tensão que se deseja usar como referência para acender o LED. O capacitor descarrega durante um tempo, portanto quanto menor $V_{ref}$, mais tempo o LED demorará a acender após $t = 0$."
   ]
  },
  {
   "cell_type": "markdown",
   "metadata": {},
   "source": [
    "### c)\n",
    "\n",
    "&emsp;O AmpOp sempre saturará em 0 ou $V+$. No segundo caso, deseja-se que o LED acenda, entâo a resistência deve ser pequena o suficente para que permita passar corrente que o acenda e grande o suficente para que uma correnter alta não o queime. Considerando um modelo de queda de tensão constante no LED, a resistência deve ser compatível com o valor de $V+$ e a queda de tensão do LED utilizado. Suponho que a escolha de $R = 100 \\Omega$ seja compatível com ambos os valores pretendidos nesse circuito."
   ]
  },
  {
   "cell_type": "markdown",
   "metadata": {},
   "source": [
    "### d)\n",
    "\n",
    "&emsp;Como descrito na (a), a tensão começa com o valor do divisor de tensões e vai caindo conforme o capacitor descarrega, até chegar a (ou próximo a) 0, numa exponencial (pois é um circuito de primeira ordem)."
   ]
  },
  {
   "cell_type": "markdown",
   "metadata": {},
   "source": [
    "### e)\n",
    "\n",
    "&emsp;Sim. Ao invés de colocar o capacitor em paralelo com $R_{2}$ do ponto de vista da fonte, pode-se colocar um indutor em série com $R_{1}$ e $R_{2}$, entre $R_{1}$ e a fonte. Assim, no regime permantente, como o indutor é como um curto, a tensão inicial no terminal inversor ainda é o divisor de tensões com $V_{in}$, $R_{1}$ e $R_{2}$. Após o desligamento da fonte, como a corrente é contínua no indutor, ela continua existente e cai em exponencial (circuito de primeira ordem) até deixar de existir (ou ficar próxima a zero). Nesse meio tempo, o indutor é o único elemento que fornece energia ao circuito. Como a corrente não se altera de $t = 0^{-}$ a $t = 0^{+}$, as resistências continuam dissipando como antes em $0^{+}$. Portanto, em $t = 0^{+}$ a tensão fornecida pelo indutor é igual a $V_{in}$ e então a tensão no terminal inversor do AmpOp também é o divisor de tensões. Conforme a corrente cai exponencialmente, essa tensão também cai até ficar menor que $V_{ref}$ e, eventualmente, ficar próxima a zero."
   ]
  },
  {
   "cell_type": "markdown",
   "metadata": {},
   "source": [
    "### f)\n",
    "\n",
    "&emsp;Após o desligamento da fonte, deseja-se estudar a resposta transitória do sistema. Como não há mais fontes, deseja-se encontrar a solução da equação diferencial homogênea. Vamos usar o polinômio característico do sistema. Pelo método das impedâncias, temos ($i_{in}$ é a corrente na fonte $V_{in}$):\n",
    "\n",
    "$\\dfrac{V_{in}(s)}{I_{in}(s)} = Z_{in}(s) = R_{1} + (\\dfrac{1}{s.C} || R_{2}) = R_{1} + \\dfrac{R_{2}}{1+R_{2}.s.C} = \\dfrac{R_{1}+R_{2}+R_{1}.R_{2}.s.C}{1+R_{2}.s.C}$\n",
    "\n",
    "&emsp;O polinômio característico é o denominador da função de tranferência de qualquer saída do circuito. No caso, $H_{I_{in}}(s) = \\dfrac{I_{in}(s)}{V_{in}(s)} = \\dfrac{1}{Z_{in}(s)}$, logo o polinômio característico é:\n",
    "\n",
    "$P(\\lambda) = \\lambda + \\dfrac{R_{1}+R_{2}}{R_{1}.R_{2}.C}$\n",
    "\n",
    "&emsp;Igualando a equação a zero, obtemos uma única raíz que determina o formato da solução da equação diferencial. A saída que procuramos é a tensão no capacitor:\n",
    "\n",
    "### $v_{c}(t) = k_{1}.e^{-\\dfrac{R_{1}+R_{2}}{R_{1}.R_{2}.C}.t}$; $t \\geq 0$\n",
    "\n",
    "&emsp;O único detalhe que falta é encontrar o valor de $k_{1}$, que é o valor de $v_{c}$ no instante $t = 0^{+}$. Como já dito anteriormente, isso corresponde ao divisor de tensões:\n",
    "\n",
    "$k_{1} = v_{c}(0^{+}) = \\dfrac{R_{2}}{R_{1}+R_{2}}.V_{in}$\n",
    "\n",
    "&emsp;Por fim, encontrou-se a resposta transitória de $v_{c}$ do sistema. Sabemos que o LED apagará em $t_{0}$ tal que $v_{c}(t_{0}) = V_{ref}$ portanto segue o cálculo de $t_{0}$:\n",
    "\n",
    "$V_{ref} = V_{in}.\\dfrac{R_{2}}{R_{1}+R_{2}}.e^{-\\dfrac{R_{1}+R_{2}}{R_{1}.R_{2}.C}.t}$\n",
    "\n",
    "$e^{-\\dfrac{R_{1}+R_{2}}{R_{1}.R_{2}.C}.t} = \\dfrac{V_{ref}}{V_{in}}.\\dfrac{R_{1}+R_{2}}{R_{2}}$\n",
    "\n",
    "$-\\dfrac{R_{1}+R_{2}}{R_{1}.R_{2}.C}.t = \\ln(\\dfrac{V_{ref}}{V_{in}}.\\dfrac{R_{1}+R_{2}}{R_{2}})$\n",
    "\n",
    "$t = -\\ln(\\dfrac{V_{ref}}{V_{in}}.\\dfrac{R_{1}+R_{2}}{R_{2}}).\\dfrac{R_{1}.R_{2}.C}{R_{1}+R_{2}}$\n",
    "\n",
    "&emsp;Note que $t$ é positivo pois $R_{1}$, $R_{2}$, $V_{in}$, $V_{ref}$ e $C$ são positivos e $\\ln(\\dfrac{V_{ref}}{V_{in}}.\\dfrac{R_{1}+R_{2}}{R_{2}})$ é sempre negativo pois por hipótese o LED inicia desligado:\n",
    "\n",
    "$\\dfrac{R_{2}}{R_{1}+R_{2}}.V_{in} = v_{c}(0^{+}) > V_{ref}$"
   ]
  },
  {
   "cell_type": "markdown",
   "metadata": {},
   "source": [
    "### 2)\n",
    "&emsp;Deseja-se saber agora a solução particular do circuito, considerando-se as condições iniciais nulas. Supondo que a onda já foi aplicada a muito tempo, a solução homogênea já calculada não será considerada. O que desejamos é a saída $v_{c}(t)$, portanto precisaremos da função de transferência $H_{c}(s) = \\dfrac{V_{c}(s)}{V_{in}(s)}$. Podemos usar o método das impedâncias no divisor de tensões com $V_{in}(s)$, $R_{1}$ e $(R{2} || \\dfrac{1}{sC})$:\n",
    "\n",
    "&emsp;Já se sabe que:\n",
    "\n",
    "$\\dfrac{1}{s.C} || R_{2} = \\dfrac{R_{2}}{1+R_{2}.s.C}$\n",
    "\n",
    "$R_{1} + (\\dfrac{1}{s.C} || R_{2}) = R_{1} + \\dfrac{R_{2}}{1+R_{2}.s.C} = \\dfrac{R_{1}+R_{2}+R_{1}.R_{2}.s.C}{1+R_{2}.s.C}$\n",
    "\n",
    "&emsp;Portanto o divisor de tensões é:\n",
    "\n",
    "$V_{c}(s) = V_{in}(s).\\dfrac{\\dfrac{1}{s.C} || R_{2}}{R_{1} + (\\dfrac{1}{s.C} || R_{2})} = \\dfrac{R_{2}}{R_{1}+R_{2}+R_{1}.R_{2}.s.C}$\n",
    "\n",
    "&emsp;Logo a função de transferência vale:\n",
    "\n",
    "$H_{c}(s) = \\dfrac{V_{c}(s)}{V_{in}(s)} = \\dfrac{\\dfrac{1}{R_{1}.C}}{s+\\dfrac{R_{1}+R_{2}}{R_{1}.R_{2}.C}}$\n",
    "\n",
    "&emsp;Agora precisamos calcular $V_{in}(s)$. Sabemos que $v_{in}(t)$ é a onda quadrada de período T e amplitude A. Vamos considerar só\n",
    "\n",
    "$$v_{in}(t) = \\sum_{k} [A.u_{-1}(t-k.T) - 2.A.u_{-1}(t-\\tfrac{T}{2}-k.T) + A.u_{-1}(t-T-k.T)]; t \\geq 0$$\n",
    "\n",
    "&emsp;Aplicando Laplace a ambos os lados da equação obtém-se:\n",
    "\n",
    "## $$V_{in}(s) = \\sum_{k} [\\dfrac{A}{s}.e^{-s.k.T} - \\dfrac{2.A}{s}.e^{-s.(\\tfrac{T}{2}+k.T)} + \\dfrac{A}{s}.e^{-s.(T+k.T)}]$$\n",
    "\n",
    "&emsp;Como o cálculo da inversa de Laplace da série infinita seria muito difícil, e mesmo se fosse calculada, como a saída dependeria de exponenciais infinitas, tornando o cálculo de $t_{ON}$ inviável ($t_{ON}$ seria influenciado por diversas exponenciais), estou supondo que o enunciado da questão está mal explicado.\n",
    "\n",
    "&emsp;O cálculo também não pode ser realizado sobre um único período da onda. Isso pois inicialmente a cada carregamento/descarregamento do capacitor, as condições iniciais dele podem mudar. Por exemplo: no início, como $V_{in} = 0$ antes de $t = 0$, o capacitor poderia carregar por completo dentro do tempo $0 \\geq t \\geq \\dfrac{T}{2}$ quando $V_{in}$ fica igual a $A$. Mas após um período, quando $V_{in}$ muda de $-A$ para $A$, a tensão inicial no capacitor antes dele começar a carregar novamente poderia ser negativa tal que o intervalo de um semiperíodo não seja o sufiente para ele se carregar por completo como ocorreu no primeiro período. A conclusão é que o $t_{ON}$ não tem valor fixo. Após muito tempo influenciado pela onda, pode ser que o sistema comece a se comportar de maneira repetida e $t_{ON}$ tenha valor fixo, mas nada no curso nos foi ensinado que permita calcular isso."
   ]
  },
  {
   "cell_type": "markdown",
   "metadata": {
    "collapsed": true
   },
   "source": [
    "### 3)\n",
    "\n",
    "&emsp;Vamos escolher $R_{1} = R_{2} = 100\\Omega$, $V_{in} = 10V$, $V_{ref} = 1V$ e escolher $C$ de maneira que o temporizador leve exatemente $1s$ para acender o LED:\n",
    "\n",
    "$t = -\\ln(\\dfrac{V_{ref}}{V_{in}}.\\dfrac{R_{1}+R_{2}}{R_{2}}).\\dfrac{R_{1}.R_{2}.C}{R_{1}+R_{2}}$\n",
    "\n",
    "$1 = -\\ln(\\dfrac{1}{10}.\\dfrac{200}{100}).\\dfrac{10000.C}{200}$\n",
    "\n",
    "$C = 0.01242669869F = 12.427mF$\n",
    "\n",
    "&emsp;Imagens do circuito e gráfico no final do documento. Note que as chaves desenhadas abrem em $t = 1s$ e a corrente no LED começa em $t = 2s$, efetivamente acendendo-o $1s$ após o desligamento da fonte, como o esperado."
   ]
  }
 ],
 "metadata": {
  "kernelspec": {
   "display_name": "Python 2",
   "language": "python",
   "name": "python2"
  },
  "language_info": {
   "codemirror_mode": {
    "name": "ipython",
    "version": 2
   },
   "file_extension": ".py",
   "mimetype": "text/x-python",
   "name": "python",
   "nbconvert_exporter": "python",
   "pygments_lexer": "ipython2",
   "version": "2.7.13"
  }
 },
 "nbformat": 4,
 "nbformat_minor": 2
}
