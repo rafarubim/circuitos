{
 "cells": [
  {
   "cell_type": "markdown",
   "metadata": {},
   "source": [
    "# Lab de Circuitos - Preparatório 9\n",
    "## Rafael Rubim Cabral - 1511068"
   ]
  },
  {
   "cell_type": "markdown",
   "metadata": {},
   "source": [
    "### 1)\n",
    "\n",
    "### a)\n",
    "\n",
    "&emsp;Pelo divisor de tensões:\n",
    "\n",
    "$V_C(s) = \\dfrac{\\dfrac1{sC}}{R+\\dfrac1{sC}}V(s)$\n",
    "\n",
    "$\\tau = RC$\n",
    "\n",
    "$H_C(s) = \\dfrac{V_C(s)}{V(s)} = \\dfrac{1/\\tau}{s+1/\\tau}$"
   ]
  },
  {
   "cell_type": "markdown",
   "metadata": {},
   "source": [
    "### b)\n",
    "\n",
    "$H_C(j\\omega) = \\dfrac{1/\\tau}{j\\omega+1/\\tau}$\n",
    "\n",
    "$|H_C(j\\omega)| = \\dfrac{1/\\tau}{\\sqrt{(1/\\tau)^2+\\omega^2}}$\n",
    "\n",
    "$\\phi H_C(j\\omega) = - \\tan^{-1}(\\omega \\tau)$"
   ]
  },
  {
   "cell_type": "markdown",
   "metadata": {},
   "source": [
    "### c)\n",
    "\n",
    "$|H_C(j\\omega)||_{\\omega = 0} = 1$\n",
    "\n",
    "$|H_C(j\\omega)||_{\\omega\\rightarrow\\infty} = 0$\n",
    "\n",
    "&emsp;O filtro realizado é passa-baixas. O cut-off será $\\dfrac1{\\sqrt2}$ do ganho máximo (1). Logo:\n",
    "\n",
    "$|H_C(j\\omega_c)| = \\dfrac1{\\sqrt2}$\n",
    "\n",
    "$\\dfrac{1/\\tau}{\\sqrt{(1/\\tau)^2+\\omega_c^2}} = \\dfrac1{\\sqrt2}$\n",
    "\n",
    "$\\dfrac{\\sqrt2}{\\tau} = \\sqrt{(1/\\tau)^2+\\omega_c^2}$\n",
    "\n",
    "$2 = (\\tau/\\tau)^2+\\omega_c^2\\tau^2$\n",
    "\n",
    "$\\omega_c = \\dfrac1{\\tau}$, ($\\tau > 0$, $\\omega_c > 0$)"
   ]
  },
  {
   "cell_type": "markdown",
   "metadata": {},
   "source": [
    "### d)\n",
    "\n",
    "&emsp;Pelo divisor de tensões:\n",
    "\n",
    "$V_R(s) = \\dfrac{R}{R+\\dfrac1{sC}}V(s)$\n",
    "\n",
    "$\\tau = RC$\n",
    "\n",
    "$H_R(s) = \\dfrac{V_C(s)}{V(s)} = \\dfrac{s}{s+1/\\tau}$"
   ]
  },
  {
   "cell_type": "markdown",
   "metadata": {},
   "source": [
    "### e)\n",
    "\n",
    "$H_R(j\\omega) = \\dfrac{j\\omega}{j\\omega+1/\\tau}$\n",
    "\n",
    "$|H_R(j\\omega)| = \\dfrac{\\omega}{\\sqrt{(1/\\tau)^2+\\omega^2}}$\n",
    "\n",
    "$\\phi H_R(j\\omega) = \\dfrac{\\pi}{2}- \\tan^{-1}(\\omega \\tau)$"
   ]
  },
  {
   "cell_type": "markdown",
   "metadata": {},
   "source": [
    "### f)\n",
    "\n",
    "$|H_R(j\\omega)||_{\\omega = 0} = 0$\n",
    "\n",
    "$|H_R(j\\omega)||_{\\omega\\rightarrow\\infty} = 1$\n",
    "\n",
    "&emsp;O filtro realizado é passa-altas. O cut-off será $\\dfrac1{\\sqrt2}$ do ganho máximo (1). Logo:\n",
    "\n",
    "$|H_R(j\\omega_c)| = \\dfrac1{\\sqrt2}$\n",
    "\n",
    "$\\dfrac{\\omega_c}{\\sqrt{(1/\\tau)^2+\\omega_c^2}} = \\dfrac1{\\sqrt2}$\n",
    "\n",
    "$\\omega_c\\sqrt2 = \\sqrt{(1/\\tau)^2+\\omega_c^2}$\n",
    "\n",
    "$\\omega_c = \\dfrac1{\\tau}$, ($\\tau > 0$, $\\omega_c > 0$)"
   ]
  },
  {
   "cell_type": "markdown",
   "metadata": {},
   "source": [
    "### 2)\n",
    "\n",
    "&emsp;Imagens da simulação no final do documento.\n",
    "\n",
    "$R = 100\\Omega$\n",
    "\n",
    "$C = 1\\mu F$\n",
    "\n",
    "$\\tau = RC = 10^{-4} s$\n",
    "\n",
    "$\\omega_c = \\dfrac1{\\tau} = 10^4 rad/s$\n",
    "\n",
    "&emsp;Escolhendo as frequências angulares $\\omega_1 = 2\\pi10^3 < \\omega_c$ e $\\omega_2 = 4\\pi10^4 > \\omega_c$, tem-se as respectivas frequências $f_1 = \\dfrac{\\omega_1}{2\\pi} = 1kHz$ e $f_2 = \\dfrac{\\omega_2}{2\\pi} = 20kHz$. $\\omega_1$ é apenas um pouco abaixo da frequência de corte para que $Vc$(t) e $V_{\\omega_1}(t)$ sejam suficientemente diferentes (com $\\omega_1$ muito baixo, $|H_C(j\\omega)| \\approx 1$, o que torna distinções difíceis de se enxergar no gráfico).\n",
    "\n",
    "&emsp;Montou-se duas fontes senoidais em série:\n",
    "\n",
    "$V_1$, de frequência $f_1$ e amplitude $1V$\n",
    "\n",
    "$V_2$, de frequência $f_2$ e amplitude $0.1V$\n",
    "\n",
    "&emsp;Como estão em série, a sobreposição de fontes gera uma saída que parece a onda de menor frquência $f_1$ com um ruído. Como o filtro no capacitor é passa-baixas o resultado será a remoção do ruído (maior frequência) e como o filtro no resistor é passa-altas, o \"ruído\" se manterá enquanto a onda de menor frequência será bem mais reduzida (como a frequência é próxima do cut-off, não será anulada)."
   ]
  },
  {
   "cell_type": "markdown",
   "metadata": {},
   "source": [
    "### 3)\n",
    "\n",
    "### a)\n",
    "\n",
    "&emsp;Considerando $Y(s) = R // \\dfrac1{sC}$ então pelo divisor de tensões:\n",
    "\n",
    "$V_C(s) = \\dfrac{Y(s)}{Y(s)+sL}V(s)$\n",
    "\n",
    "$Y(s) = \\dfrac1{\\dfrac1R + sC}$\n",
    "\n",
    "$Y(s) = \\dfrac{\\dfrac1{C}}{s + \\dfrac1{RC}}$\n",
    "\n",
    "&emsp;Logo:\n",
    "\n",
    "$H_C(s) = \\dfrac{V_C(s)}{V(s)} = \\dfrac{\\dfrac1{C}}{\\dfrac1{C}+sL({s + \\dfrac1{RC}})}$\n",
    "\n",
    "$H_C(s) = \\dfrac{V_C(s)}{V(s)} = \\dfrac{\\dfrac1{LC}}{s^2 + \\dfrac{s}{RC} + \\dfrac1{LC}}$\n",
    "\n",
    "&emsp;Vamos considerar o caso subamortecido (ou criticamente amortecido), mais comum:\n",
    "\n",
    "$\\omega_n = \\dfrac1{\\sqrt{LC}}$\n",
    "\n",
    "$\\xi = \\dfrac{\\sqrt{LC}}{2RC}$\n",
    "\n",
    "$H_C(s) = \\dfrac{\\omega_n^2}{s^2 + 2\\xi\\omega_ns + \\omega_n^2}$"
   ]
  },
  {
   "cell_type": "markdown",
   "metadata": {},
   "source": [
    "### b)\n",
    "\n",
    "$H_C(j\\omega) = \\dfrac{\\omega_n^2}{-\\omega^2 + j2\\xi\\omega_n\\omega + \\omega_n^2}$\n",
    "\n",
    "$|H_C(j\\omega)| = \\dfrac{\\omega_n^2}{\\sqrt{(\\omega_n^2-\\omega^2)^2 + (2\\xi\\omega_n\\omega)^2}}$\n",
    "\n",
    "$\\phi H_C(j\\omega) = - \\tan^{-1}\\left(\\dfrac{2\\xi\\omega_n\\omega}{\\omega_n^2-\\omega^2}\\right)$"
   ]
  },
  {
   "cell_type": "markdown",
   "metadata": {},
   "source": [
    "### c)\n",
    "\n",
    "$|H_C(j\\omega)|_{\\omega = 0} = 1$\n",
    "\n",
    "$|H_C(j\\omega)|_{\\omega\\rightarrow\\infty} = 0$\n",
    "\n",
    "&emsp;O filtro realizado é passa-baixas. O cut-off será $\\dfrac1{\\sqrt2}$ do ganho máximo (1). Logo:\n",
    "\n",
    "$|H_C(j\\omega_c)| = \\dfrac1{\\sqrt2}$\n",
    "\n",
    "$\\dfrac{\\omega_n^2}{\\sqrt{(\\omega_n^2-\\omega_c^2)^2 + (2\\xi\\omega_n\\omega_c)^2}} = \\dfrac1{\\sqrt2}$\n",
    "\n",
    "$2\\omega_n^4 = (\\omega_n^2-\\omega_c^2)^2 + (2\\xi\\omega_n\\omega_c)^2$\n",
    "\n",
    "$2\\omega_n^4 = \\omega_n^4+\\omega_c^4-2\\omega_n^2\\omega_c^2 + 4\\xi^2\\omega_n^2\\omega_c^2$\n",
    "\n",
    "$\\omega_c^4+(4\\xi^2-2)\\omega_n^2\\omega_c^2-\\omega_n^4 = 0$\n",
    "\n",
    "&emsp;Considere $y = \\omega_c^2$. Logo:\n",
    "\n",
    "$y^2+(4\\xi^2-2)\\omega_n^2y-\\omega_n^4 = 0$\n",
    "\n",
    "$\\Delta = (4\\xi^2-2)^2\\omega_n^4+4\\omega_n^4$\n",
    "\n",
    "$\\Delta = (16\\xi^4-16\\xi^2+8)\\omega_n^4$\n",
    "\n",
    "$y = \\dfrac{2-4\\xi^2\\omega_n^2\\pm\\sqrt{(16\\xi^4-16\\xi^2+8)\\omega_n^4}}{2}$\n",
    "\n",
    "$y = \\left[2-4\\xi^2\\pm\\sqrt{\\xi^4-\\xi^2+1/2}\\right]2\\omega_n^2$\n",
    "\n",
    "$y_1 = \\left[2-4\\xi^2+\\sqrt{\\xi^4-\\xi^2+1/2}\\right]2\\omega_n^2$\n",
    "\n",
    "$y_2 = \\left[2-4\\xi^2-\\sqrt{\\xi^4-\\xi^2+1/2}\\right]2\\omega_n^2$\n",
    "\n",
    "&emsp;Note que $y_1y_2 = -\\omega_n^4$ (negativo). Logo $y_1$ e $y_2$ não podem ser complexos conjugados (pois o produto seria real positivo). Então $y_1$ e $y_2$ são reais com um deles negativo (para que o produto seja negativo). Logo $y_1$ é sempre real positivo e $y_2$ é sempre real negativo. Temos $\\omega_c^2 = y$, logo a solução $y_2$ pode ser descartada, já que $\\omega_c$ é real. Ficamos com $\\omega_c^2 = y_1$:\n",
    "\n",
    "$\\omega_c = \\pm\\sqrt{\\left[2-4\\xi^2+\\sqrt{\\xi^4-\\xi^2+1/2}\\right]2\\omega_n^2}$\n",
    "\n",
    "&emsp;Considerando apenas frequências positivas, a frequência de corte será:\n",
    "\n",
    "$\\omega_c = \\sqrt{\\left[2-4\\xi^2+\\sqrt{\\xi^4-\\xi^2+1/2}\\right]2\\omega_n^2}$"
   ]
  },
  {
   "cell_type": "markdown",
   "metadata": {
    "collapsed": true
   },
   "source": [
    "### 4)\n",
    "\n",
    "&emsp;Imagens da simulação no final do documento.\n",
    "\n",
    "$R = 100\\omega$\n",
    "\n",
    "$L = 1\\mu H$\n",
    "\n",
    "$C = 1\\mu F$\n",
    "\n",
    "&emsp;Garantindo que estamos no caso subamortecido, pelo polinômio característico:\n",
    "\n",
    "$p(\\lambda) = \\lambda^2 + \\dfrac{\\lambda}{RC} + \\dfrac1{LC}$\n",
    "\n",
    "$\\Delta = \\dfrac1{(RC)^2} - \\dfrac{4}{LC} = 10^8 - 4.10^{12} < 0 \\rightarrow$ OK!\n",
    "\n",
    "$\\omega_n = \\dfrac1{\\sqrt{LC}} = 10^6$\n",
    "\n",
    "$\\xi = \\dfrac{\\sqrt{LC}}{2RC} = 5.10^{-3}$\n",
    "\n",
    "$\\omega_c = \\sqrt{\\left[2-4\\xi^2+\\sqrt{\\xi^4-\\xi^2+1/2}\\right]2\\omega_n^2}$\n",
    "\n",
    "$\\omega_c = \\sqrt{\\left[2-10^{-4}+\\sqrt{625.10^{-12}-25.10^{-6}+1/2}\\right]2.10^{12}}$\n",
    "\n",
    "$\\omega_c \\approx \\sqrt{\\left[2-10^{-4}+\\dfrac1{\\sqrt2}\\right]2.10^{12}}$\n",
    "\n",
    "$\\omega_c \\approx \\sqrt{(4+\\sqrt2)10^{12}}$\n",
    "\n",
    "$\\omega_c \\approx 2,3268.10^6 rad/s$\n",
    "\n",
    "&emsp;Escolhendo as frequências angulares $\\omega_1 = 4\\pi10^5 < \\omega_c$ e $\\omega_2 = 6\\pi10^6 > \\omega_c$, tem-se as respectivas frequências $f_1 = \\dfrac{\\omega_1}{2\\pi} = 200kHz$ e $f_2 = \\dfrac{\\omega_2}{2\\pi} = 3MHz$. $\\omega_1$ é apenas um pouco abaixo da frequência de corte para que $Vc$(t) e $V_{\\omega_1}(t)$ sejam suficientemente diferentes (com $\\omega_1$ muito baixo, $|H_C(j\\omega)| \\approx 1$, o que torna distinções difíceis de se enxergar no gráfico).\n",
    "\n",
    "&emsp;Montou-se duas fontes senoidais em série:\n",
    "\n",
    "$V_1$, de frequência $f_1$ e amplitude $1V$\n",
    "\n",
    "$V_2$, de frequência $f_2$ e amplitude $0.1V$\n",
    "\n",
    "&emsp;Como estão em série, a sobreposição de fontes gera uma saída que parece a onda de menor frquência $f_1$ com um ruído. Como o filtro no capacitor é passa-baixas o resultado será a remoção do ruído (maior frequência). O resultado da onda resultante, de menor frequência, é diferente do resultado obtido na questão (2) pois devido ao fato do circuito ser de segunda ordem e estar subamortecido com os parâmetros passados, ocorre o fenômeno de ressonância e em determinados momentos há ganho de tensão pois a função de transferência é maior que 1 (pois $\\xi$ é menor que 1)."
   ]
  }
 ],
 "metadata": {
  "kernelspec": {
   "display_name": "Python 2",
   "language": "python",
   "name": "python2"
  },
  "language_info": {
   "codemirror_mode": {
    "name": "ipython",
    "version": 2
   },
   "file_extension": ".py",
   "mimetype": "text/x-python",
   "name": "python",
   "nbconvert_exporter": "python",
   "pygments_lexer": "ipython2",
   "version": "2.7.13"
  }
 },
 "nbformat": 4,
 "nbformat_minor": 2
}
