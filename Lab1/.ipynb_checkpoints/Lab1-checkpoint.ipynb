{
 "cells": [
  {
   "cell_type": "markdown",
   "metadata": {},
   "source": [
    "# Lab de circuitos elétricos e eletrônicos - Preparatório 1 - PUC-Rio\n",
    "## Rafael Rubim Cabral - 1511068\n",
    "\n",
    "# 1)\n",
    "### a)\n",
    "&emsp;Considere $R_{eqN}$ a resistência equivalente à direita do nó N.\n",
    "\n",
    "$R_{eq5} = R + R = 2 \\cdot R$\n",
    "\n",
    "$R_{eq4} = R + [R_{eq5} // (R + R)] = R + [(2R)^{-1} + (2R)^{-1}]^{-1} = R + R = 2 \\cdot R$\n",
    "\n",
    "$R_{eq3} = R + [R_{eq4} // (R + R)] = R + [(2R)^{-1} + (2R)^{-1}]^{-1} = R + R = 2 \\cdot R$\n",
    "\n",
    "$R_{eq2} = R + [R_{eq3} // (R + R)] = R + [(2R)^{-1} + (2R)^{-1}]^{-1} = R + R = 2 \\cdot R$"
   ]
  },
  {
   "cell_type": "markdown",
   "metadata": {},
   "source": [
    "### b)\n",
    "&emsp;Considerando o nó 1, à esquerda do nó 2, tem-se:\n",
    "\n",
    "$R_{eq1} = R + [R_{eq2} // (R + R)] = R + [(2R)^{-1} + (2R)^{-1}]^{-1} = R + R = 2 \\cdot R$\n",
    "\n",
    "&emsp;$R_{eq1}$ é a resistência equivalente do circuito inteiro. Portanto, considerando $i_{1-2}$ a corrente que sai da fonte $V$:\n",
    "\n",
    "$V = R_{eq1} \\cdot i$\n",
    "\n",
    "$8 = 2 \\cdot R \\cdot i$\n",
    "\n",
    "$i_{1-2} = 4 / R$\n",
    "\n",
    "&emsp;A corrente que chega ao nó 2 se divide em duas, pois as resistências $(R + R)$ e $R_{eq2}$ estão em paralelo. Como $(R + R)$ = $R_{eq2}$, a corrente se divide exatamente em duas no nó 2. O mesmo vale para os outros nós, então considerando $i_{N-M}$ a corrente que segue do nó $N$ para o nó $M$, teremos:\n",
    "\n",
    "$i_{2-3} = i_{1-2} / 2 = 2 / R$\n",
    "\n",
    "$i_{3-4} = i_{2-3} / 2 = 1 / R$\n",
    "\n",
    "$i_{4-5} = i_{3-4} / 2 = 1 / (2 \\cdot R)$\n",
    "\n",
    "&emsp;Com as correntes podemos calcular a ddp entre os nós. Considere $V_{N}$ o potencial no nó N e $U_{N-M}$ a ddp $V_{N} - V_{M}$. Com a fórmula $U_{N-M} = R \\cdot i_{N-M}$ pode-se calcular:\n",
    "\n",
    "$U_{1-2} = 4$\n",
    "\n",
    "$U_{2-3} = 2$\n",
    "\n",
    "$U_{3-4} = 1$\n",
    "\n",
    "$U_{4-5} = 0.5$\n",
    "\n",
    "&emsp;Trivialmente, o potencial no nó 1 é $V_{1} = 8V$, portanto podemos calcular:\n",
    "\n",
    "$V_{2} = V_{1} - U_{1-2} = 8 - 4 = 4V$\n",
    "\n",
    "$V_{3} = V_{2} - U_{2-3} = 4 - 2 = 2V$\n",
    "\n",
    "$V_{4} = V_{3} - U_{3-4} = 2 - 1 = 1V$\n",
    "\n",
    "$V_{5} = V_{4} - U_{4-5} = 1 - 0.5 = 0.5V$"
   ]
  },
  {
   "cell_type": "markdown",
   "metadata": {},
   "source": [
    "### c)\n",
    "&emsp;Com a resistência equivalente total e voltagem total do circuito teremos:\n",
    "\n",
    "$P_{diss} = V^{2} / R_{eq1}$\n",
    "\n",
    "$5 = 64 / (2 \\cdot R)$\n",
    "\n",
    "$R = 32 / 5 = 6.4 \\Omega$\n",
    "\n",
    "&emsp;Considere $P_{N-M}$ a potência dissipada pelo resistor entre os nós N e M. Individualmente, teremos $P_{N-M} = U_{N-M} \\cdot i_{N-M}$. Portanto:\n",
    "\n",
    "$P_{2-3} = U_{2-3} \\cdot i_{2-3} = 2 \\cdot 2 / 6.4 = 0.625W$\n",
    "\n",
    "$P_{3-4} = U_{3-4} \\cdot i_{3-4} = 1 \\cdot 1 / 6.4 = 0.15625W$\n",
    "\n",
    "$P_{4-5} = U_{4-5} \\cdot i_{4-5} = 0.5 \\cdot 1 /(2 \\cdot 6.4) = 0.0390625W$\n",
    "\n",
    "\n",
    "# 2)"
   ]
  },
  {
   "cell_type": "markdown",
   "metadata": {},
   "source": [
    "Deu certo! O Circuito Ladder vai dividindo pela metade a corrente e o potencial em cada nó marcado, a partir da potência inicial fornecida pela fonte."
   ]
  },
  {
   "cell_type": "markdown",
   "metadata": {},
   "source": [
    "![](simulacao.png)"
   ]
  }
 ],
 "metadata": {
  "kernelspec": {
   "display_name": "Python 2",
   "language": "python",
   "name": "python2"
  },
  "language_info": {
   "codemirror_mode": {
    "name": "ipython",
    "version": 2
   },
   "file_extension": ".py",
   "mimetype": "text/x-python",
   "name": "python",
   "nbconvert_exporter": "python",
   "pygments_lexer": "ipython2",
   "version": "2.7.13"
  }
 },
 "nbformat": 4,
 "nbformat_minor": 2
}
