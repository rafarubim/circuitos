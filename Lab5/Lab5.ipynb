{
 "cells": [
  {
   "cell_type": "markdown",
   "metadata": {},
   "source": [
    "# Lab de circuitos elétricos e eletrônicos - Preparatório 5 - PUC-Rio\n",
    "## Rafael Rubim Cabral - 1511068"
   ]
  },
  {
   "cell_type": "markdown",
   "metadata": {},
   "source": [
    "# 1)\n",
    "### a)\n",
    "&emsp;Um circuito retificador é um circuito que transforma uma corrente alternada (AC) em uma corrente contínua (DC). Isso significa que a corrente passa a ter direção única, sem alterar o sinal. Normalmente o objetivo desse circuito é obter uma uma corrente contínua constante, mas o \"Retificador de Meia Onda\" do caso apresentado não se preocupa em mantê-la contínua, o que seria feito através de uma filtragem e estabilização de $V_{out}$."
   ]
  },
  {
   "cell_type": "markdown",
   "metadata": {},
   "source": [
    "### b)\n",
    "&emsp;No caso apresentado, o \"Retificador de Meia Onda\" almeja apenas \"eliminar\" o valor negativo da corrente senoidal, o que é papel do diodo que permite passagem de corrente num único sentido. Como o diodo permite tal passagem de corrente somente para um valor positivo de $V_{D2}$ (idealmente, na prática o corte ocorre em uma ddp um pouco acima de zero), os valores de $V_{in}$ menores que 0 geram um $V_{out} = 0$ pois não há corrente. Condizentemente com seu nome, o gráfico final de $V_{out}$ será apenas a metade positiva da onda $V_{in}$."
   ]
  },
  {
   "cell_type": "markdown",
   "metadata": {},
   "source": [
    "### c)\n",
    "&emsp;Isso ocorre porque há uma queda de tensão no diodo. Ele segue um modelo não-linear em sua relação corrente $X$ tensão, mas aproximamos tal curva para um modelo de queda de tensão constante, o que significa que quando não está em corte, possui um $V_{D2}$ fixo que vale um pouco mais que $0V$. Assim, teremos que:\n",
    "\n",
    "$V_{out} =$\n",
    "\n",
    "$V_{in} - V_{D2}$&emsp;&ensp;&ensp;, se $V_{in} \\geq V_{D2}$\n",
    "\n",
    "$0$&emsp;&emsp;&emsp;&emsp;&emsp;&emsp;, se $V_{in} < V_{D2}$"
   ]
  },
  {
   "cell_type": "markdown",
   "metadata": {},
   "source": [
    "### d)\n",
    "&emsp;As imagens do circuito estão no final do documento.\n",
    "\n",
    "&emsp;Se a frequência da fonte senoidal de entrada é $f$, então a frequência do sinal de saída é $2 \\cdot f$. Isso porque uma senoide completa um período a cada dois picos (positivo e negativo). O sinal de saída do Retificador de Onda Completa é sempre positivo e tem seus picos coincidentes com os do sinal de entrada, portanto tem um período menor, a cada pico. Logo o sinal de saída tem metade do período e o dobro da freqûencia do sinal de entrada."
   ]
  }
 ],
 "metadata": {
  "kernelspec": {
   "display_name": "Python 2",
   "language": "python",
   "name": "python2"
  },
  "language_info": {
   "codemirror_mode": {
    "name": "ipython",
    "version": 2
   },
   "file_extension": ".py",
   "mimetype": "text/x-python",
   "name": "python",
   "nbconvert_exporter": "python",
   "pygments_lexer": "ipython2",
   "version": "2.7.13"
  }
 },
 "nbformat": 4,
 "nbformat_minor": 2
}
