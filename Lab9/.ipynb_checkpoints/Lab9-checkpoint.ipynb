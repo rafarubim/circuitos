{
 "cells": [
  {
   "cell_type": "markdown",
   "metadata": {},
   "source": [
    "# Lab de Circuitos - Preparatório 9\n",
    "## Rafael Rubim Cabral - 1511068"
   ]
  },
  {
   "cell_type": "markdown",
   "metadata": {},
   "source": [
    "### 1)\n",
    "&emsp;Cálculo da função de transferência $H_{Z}(s)$:\n",
    "\n",
    "$Z_{1}(s) = \\dfrac{1}{sC} // (Ls+Z) = \\dfrac{1}{\\dfrac{1}{Ls+Z}+sC} = \\dfrac{Ls+Z}{1+LCs^2+ZCs}$\n",
    "\n",
    "$V_{2}(s) = V(s) \\dfrac{Z_{1}(s)}{R+Z_{1}(s)}$\n",
    "\n",
    "$V_{Z}(s) = V_{2}(s)\\dfrac{Z}{Ls+Z}$\n",
    "\n",
    "$H_{Z}(s) = \\dfrac{V_{Z}(s)}{V(s)} = \\dfrac{Z_{1}(s)}{R+Z_{1}(s)}\\dfrac{Z}{Ls+Z} = \\dfrac{Z_{1}Z}{RLs+ZR+Z_{1}Ls+Z_{1}Z} = \\dfrac{Z}{\\dfrac{RLs}{Z_1}+\\dfrac{ZR}{Z_1}+Ls+Z}$\n",
    "\n",
    "$H_{Z}(s) = \\dfrac{Z}{\\dfrac{RLs + RL^2Cs^3 + ZRLCs^2}{Ls+Z}+\\dfrac{ZR + ZRLCs^2 + Z^2RCs}{Ls+Z}+Ls+Z}$\n",
    "\n",
    "$H_{Z}(s) = \\dfrac{ZLs + Z^2}{RLs + RL^2Cs^3 + ZRLCs^2 + ZR + ZRLCs^2 + Z^2RCs+(Ls+Z)^2}$\n",
    "\n",
    "$H_{Z}(s) = \\dfrac{ZLs + Z^2}{RL^2Cs^3 + ZRLCs^2 + ZRLCs^2 + L^2s^2 + RLs + Z^2RCs + 2ZLs + ZR + Z^2}$\n",
    "\n",
    "$H_{Z}(s) = \\dfrac{ZLs + Z^2}{RL^2Cs^3 + (2ZRLC + L^2)s^2 + (RL + Z^2RC + 2ZL)s + (ZR + Z^2)}$\n",
    "\n",
    "&emsp;Vamos considerar a fase da fonte $\\phi = 0$. Logo temos o fasor $\\dot V = Ae^{j.0}$. O fasor da saída $\\dot V_{Z}$ será:\n",
    "\n",
    "$\\dot V_{Z} = H_{Z}(j\\omega_{0}) \\dot V$\n",
    "\n",
    "$H_{Z}(j\\omega_{0}) = \\dfrac{jZL\\omega_0 + Z^2}{-jRL^2C\\omega_0^3 - (2ZRLC + L^2)\\omega_0^2 + (RL + Z^2RC + 2ZL)j\\omega_0 + (ZR + Z^2)}$\n",
    "\n",
    "$H_{Z}(j\\omega_{0}) = \\dfrac{Z^2+jZL\\omega_0}{[ZR + Z^2 - (2ZRLC + L^2)\\omega_0^2] + j[(RL + Z^2RC + 2ZL)\\omega_0-RL^2C\\omega_0^3]}$\n",
    "\n"
   ]
  },
  {
   "cell_type": "markdown",
   "metadata": {
    "collapsed": true
   },
   "source": [
    "### a)\n",
    "\n",
    "&emsp;$Z = Z_0e^{j\\phi}$ puramente resistivo: $Z = R + j.0 \\rightarrow \\phi = 0 \\rightarrow Z = Z_0$\n",
    "\n",
    "$H_{Z}(j\\omega_{0}) = \\dfrac{Z_0^2+jZ_0L\\omega_0}{[Z_0R + Z_0^2 - (2RLZ_0C + L^2)\\omega_0^2] + j[(RL + Z_0^2RC + 2LZ_0)\\omega_0-RL^2C\\omega_0^3]}$\n",
    "\n",
    "&emsp;Logo $\\dot V_{Z} = H_{Z}(j\\omega_{0}) \\dot V = H_{Z}(j\\omega_{0}) A$ e então $V_{Z}(t) = \\mathbb{R}(H_{Z}(j\\omega_0) A e^{j\\omega_0t})$\n",
    "\n",
    "$V_{Z}(t) = \\mathbb{R}\\left(\\dfrac{(Z_0^2+jZ_0L\\omega_0) A e^{j\\omega_0t}}{[Z_0R + Z_0^2 - (2RLZ_0C + L^2)\\omega_0^2] + j[(RL + Z_0^2RC + 2LZ_0)\\omega_0-RL^2C\\omega_0^3]}\\right)$"
   ]
  },
  {
   "cell_type": "markdown",
   "metadata": {},
   "source": [
    "### b)\n",
    "\n",
    "&emsp;$Z = Z_0e^{j\\phi}$ puramente capacitivo: $Z = 0 - j.X \\rightarrow \\phi = \\dfrac{3\\pi}{2} \\rightarrow Z = -jZ_0$\n",
    "\n",
    "$H_{Z}(j\\omega_{0}) = \\dfrac{-Z_0^2+Z_0L\\omega_0}{[2LZ_0\\omega_0-Z_0^2 - L^2\\omega_0^2] + j[(RL - Z_0^2RC)\\omega_0-Z_0R-RL^2C\\omega_0^3+2RLZ_0C\\omega_0^2]}$\n",
    "\n",
    "&emsp;Logo $\\dot V_{Z} = H_{Z}(j\\omega_{0}) \\dot V = H_{Z}(j\\omega_{0}) A$ e então $V_{Z}(t) = H_{Z}(j\\omega_0) A e^{j\\omega_0t}$\n",
    "\n",
    "$V_{Z}(t) = \\mathbb{R}\\left(\\dfrac{(-Z_0^2+Z_0L\\omega_0) A e^{j\\omega_0t}}{[2LZ_0\\omega_0-Z_0^2 - L^2\\omega_0^2] + j[(RL - Z_0^2RC)\\omega_0-Z_0R-RL^2C\\omega_0^3+2RLZ_0C\\omega_0^2]}\\right)$"
   ]
  },
  {
   "cell_type": "markdown",
   "metadata": {},
   "source": [
    "### c)\n",
    "\n",
    "&emsp;$Z = Z_0e^{j\\phi}$ puramente indutivo: $Z = 0 + j.X \\rightarrow \\phi = \\dfrac{\\pi}{2} \\rightarrow Z = jZ_0$\n",
    "\n",
    "$H_{Z}(j\\omega_{0}) = \\dfrac{-Z_0^2-Z_0L\\omega_0}{[-2LZ_0\\omega_0-Z_0^2 - L^2\\omega_0^2] + j[(RL - Z_0^2RC)\\omega_0+Z_0R-RL^2C\\omega_0^3-2RLZ_0C\\omega_0^2]}$\n",
    "\n",
    "&emsp;Logo $\\dot V_{Z} = H_{Z}(j\\omega_{0}) \\dot V = H_{Z}(j\\omega_{0}) A$ e então $V_{Z}(t) = H_{Z}(j\\omega_0) A e^{j\\omega_0t}$\n",
    "\n",
    "$V_{Z}(t) = \\mathbb{R}\\left(\\dfrac{(-Z_0^2-Z_0L\\omega_0) A e^{j\\omega_0t}}{[-2LZ_0\\omega_0-Z_0^2 - L^2\\omega_0^2] + j[(RL - Z_0^2RC)\\omega_0+Z_0R-RL^2C\\omega_0^3-2RLZ_0C\\omega_0^2]}\\right)$"
   ]
  },
  {
   "cell_type": "markdown",
   "metadata": {},
   "source": [
    "#### 2)\n",
    "\n",
    "&emsp;As simulações não puderam ser realizadas pois a licença da PUC do circuitlab não está funcionando e não encontrei outro simulador que gere gráficos com desenho de escala. Seguem as contas:\n",
    "\n",
    "&emsp;Adotando nos 3 casos:\n",
    "\n",
    "$R = 100\\Omega$\n",
    "\n",
    "$L = 1\\mu H$\n",
    "\n",
    "$C = 1\\mu F$\n",
    "\n",
    "$\\omega_0 = 100 rad/s$\n",
    "\n",
    "$f = \\dfrac{\\omega_0}{2\\pi} = 15,92 Hz$\n",
    "\n",
    "$T = \\dfrac{1}{f} = 62,66 ms$\n",
    "\n",
    "$A = 10V$"
   ]
  },
  {
   "cell_type": "markdown",
   "metadata": {},
   "source": [
    "### a)\n",
    "\n",
    "$Z_R = 100\\Omega$\n",
    "\n",
    "$Z = Z_0 = 100\\Omega$\n",
    "\n",
    "$V_{Z}(t) = \\mathbb{R}\\left(\\dfrac{(Z_0^2+jZ_0L\\omega_0) A e^{j\\omega_0t}}{[Z_0R + Z_0^2 - (2RLZ_0C + L^2)\\omega_0^2] + j[(RL + Z_0^2RC + 2LZ_0)\\omega_0-RL^2C\\omega_0^3]}\\right)$\n",
    "\n",
    "$V_{Z}(t) = \\mathbb{R}\\left(\\dfrac{(10^4+j10^{-2}) 10 e^{j10^2t}}{[10^4 + 10^4 - (2.10^{-8} + 10^{-12})10^{4}] + j[(10^{-4} + 1 + 2.10^{-4})10^2-10^{-16}10^6]}\\right)$\n",
    "\n",
    "$V_{Z}(t) = \\mathbb{R}\\left(\\dfrac{10^4e^{j.0}10e^{j10^2t}}{[-10^{-8}] + j[(10^2 + 3.10^{-2})-10^{-10}]}\\right)$\n",
    "\n",
    "$V_{Z}(t) = \\mathbb{R}\\left(\\dfrac{10^5e^{j10^2t}}{[-10^{-8}] + j[10^2]}\\right)$\n",
    "\n",
    "$V_{Z}(t) = \\mathbb{R}\\left(\\dfrac{10^5e^{j10^2t}}{10^2e^{j\\frac{\\pi}{2}}}\\right)$\n",
    "\n",
    "$V_{Z}(t) = 10^3\\sin\\left(10^2t - \\frac{\\pi}{2}\\right)$"
   ]
  },
  {
   "cell_type": "markdown",
   "metadata": {},
   "source": [
    "### b)\n",
    "\n",
    "$Z_C = 1\\mu F$\n",
    "\n",
    "$Z = -jZ_0 = \\dfrac{-j}{\\omega_0Z_C} = \\dfrac{-j}{10^210^{-6}}$\n",
    "\n",
    "$Z_0 = 10^{4}$\n",
    "\n",
    "$V_{Z}(t) = \\mathbb{R}\\left(\\dfrac{(-Z_0^2+Z_0L\\omega_0) A e^{j\\omega_0t}}{[2LZ_0\\omega_0-Z_0^2 - L^2\\omega_0^2] + j[(RL - Z_0^2RC)\\omega_0-Z_0R-RL^2C\\omega_0^3+2RLZ_0C\\omega_0^2]}\\right)$\n",
    "\n",
    "$V_{Z}(t) = \\mathbb{R}\\left(\\dfrac{(-10^8+1) 10 e^{j10^2t}}{[2-10^8-10^{-8}] + j[(10^{-4} - 10^4)10^2-10^6-10^{-16}10^6+2.10^{-2}]}\\right)$\n",
    "\n",
    "$V_{Z}(t) = \\mathbb{R}\\left(\\dfrac{10 e^{j10^2t}}{[-10^8] + j[-2.10^6]}\\right)$\n",
    "\n",
    "$V_{Z}(t) = \\mathbb{R}\\left(\\dfrac{10 e^{j10^2t}}{10^8e^{j.0}}\\right)$\n",
    "\n",
    "$V_{Z}(t) = 10^{-7}\\sin\\left(10^2t\\right)$"
   ]
  },
  {
   "cell_type": "markdown",
   "metadata": {},
   "source": [
    "### c)\n",
    "\n",
    "$Z_L = 1\\mu H$\n",
    "\n",
    "$Z = jZ_0 = j\\omega_0Z_L = j10^210^{-6}$\n",
    "\n",
    "$Z_0 = 10^{-4}$\n",
    "\n",
    "$V_{Z}(t) = \\mathbb{R}\\left(\\dfrac{(-Z_0^2-Z_0L\\omega_0) A e^{j\\omega_0t}}{[-2LZ_0\\omega_0-Z_0^2 - L^2\\omega_0^2] + j[(RL - Z_0^2RC)\\omega_0+Z_0R-RL^2C\\omega_0^3-2RLZ_0C\\omega_0^2]}\\right)$\n",
    "\n",
    "$V_{Z}(t) = \\mathbb{R}\\left(\\dfrac{(-10^{-8}-10^{-8})10e^{j10^2t}}{[-2.10^{-8}-10^{-8}-10^{-8}] + j[(10^{-4}-10^{-12})10^2+10^{-2}-10^{-16}10^6-2.10^{-14}10^4]}\\right)$\n",
    "\n",
    "$V_{Z}(t) = \\mathbb{R}\\left(\\dfrac{-2.10^{-7}e^{j10^2t}}{[-4.10^{-8}] + j[2.10^{-2}-4.10^{-10}]}\\right)$\n",
    "\n",
    "$V_{Z}(t) = \\mathbb{R}\\left(\\dfrac{-10^{-7}e^{j10^2t}}{[-2.10^{-8}] + j[10^{-2}-210^{-10}]}\\right)$\n",
    "\n",
    "$V_{Z}(t) = \\mathbb{R}\\left(\\dfrac{-10^{-7}e^{j10^2t}}{10^{-2}e^{j\\frac{\\pi}{2}}}\\right)$\n",
    "\n",
    "$V_{Z}(t) = -10^{-5}\\sin\\left(10^2t-\\frac{\\pi}{2}\\right)$"
   ]
  },
  {
   "cell_type": "markdown",
   "metadata": {},
   "source": [
    "### 3)\n",
    "\n",
    "### a)\n",
    "\n",
    "&emsp;A frequência de ressonância é igual a $\\omega_0 = \\dfrac{1}{\\sqrt{LC}} = \\dfrac{1}{\\sqrt{3.10^410^{-6}10^{-9}}}  = \\dfrac{1}{\\sqrt{30}.10^{-6}} = \\dfrac{\\sqrt{30}.10^6}{30}$ rad/s\n",
    "\n",
    "### b)\n",
    "\n",
    "&emsp;A frequência de ressonância é a frequência para a qual a soma das impedâncias do capacitor e do indutor é igual a 0. Como a impedância equivalente do circuito $RLC$ é $Z_R + Z_L + Z_C$, então a impedância equivalente do circuito valerá $Z_R = R$. Isso significa que no regime senoidal permanente a corrente estará em fase com a fonte e o circuito pode ser enxergado como um circuito puramente resistivo."
   ]
  },
  {
   "cell_type": "code",
   "execution_count": null,
   "metadata": {
    "collapsed": true
   },
   "outputs": [],
   "source": []
  }
 ],
 "metadata": {
  "kernelspec": {
   "display_name": "Python 2",
   "language": "python",
   "name": "python2"
  },
  "language_info": {
   "codemirror_mode": {
    "name": "ipython",
    "version": 2
   },
   "file_extension": ".py",
   "mimetype": "text/x-python",
   "name": "python",
   "nbconvert_exporter": "python",
   "pygments_lexer": "ipython2",
   "version": "2.7.13"
  }
 },
 "nbformat": 4,
 "nbformat_minor": 2
}
