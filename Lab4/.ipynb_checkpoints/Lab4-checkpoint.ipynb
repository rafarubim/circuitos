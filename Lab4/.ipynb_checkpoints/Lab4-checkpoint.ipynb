{
 "cells": [
  {
   "cell_type": "markdown",
   "metadata": {},
   "source": [
    "# Lab de circuitos elétricos e eletrônicos - Preparatório 4 - PUC-Rio\n",
    "## Rafael Rubim Cabral - 1511068\n",
    "\n",
    "# 1)\n",
    "&emsp;Um AmpOp possui um parâmetro $A$ que serve para definir a saída $V_{out}$ em função proporcional à diferença de tensões das entradas inversora e não-inversora: $V_{out} = A \\cdot (v^{+} - v^{-})$. Esse parâmetro é considerado infinito no AmpOp ideal e grande o suficiente na prática, no AmpOp real. Através da saturação, considera-se que se $v^{+} > v^{-}$ então $A$ é grande o suficiente para que $V_{out}$ sature no valor de alimentação $V^{+}$ e caso $v^{+} < v^{-}$, $A$ é grande o suficiente para que $V_{out}$ sature no valor de alimentação $V^{-}$. O caso $v^{+} = v^{-}$ é desconsiderado por sua inviabilidade prática e portanto a saída do AmpOp só pode assumir 2 resultados diferentes da comparação: $V^{+}$ ou $V^{-}$."
   ]
  },
  {
   "cell_type": "markdown",
   "metadata": {},
   "source": [
    "# 2)\n",
    "&emsp;O diodo é um elemento não linear que pode ser usado em um circuito. A corrente que passa por ele é uma função exponencial da tensão que se aplica a ele. Na prática, essa função é aproximadamente nula para tensões abaixo de um valor de corte, a partir do qual a corrente de fato passa. O valor de corte é positivo, o que significa que para tensões negativas ou muito baixas, o diodo age como um aberto no circuito. Consequentemente, a passagem de corrente é bloqueada em um dos sentidos do diodo. Um LED, ou Light Emitting Diode, é um diodo cujo material emite luz com a passagem de corrente.\n",
    "\n",
    "&emsp;De maneira superficial, a física por trás da emissão de luz do LED é explicada pelo retorno dos elétrons livres da corrente que passa pelo semicondutor para a camada de valência, pulando um \"gap\", o que libera energia em forma de luz. Ainda superficialmente, a passagem de corrente em sentido único do diodo é explicada por sua formação: um diodo é uma junção de um semicondutor \"p\" e um \"n\": um composto de cargas negativas e outro com falta delas. Perto da junção em si, há uma pequena difusão de cargas entre esses semicondutores que cria uma \"barreira\" de cargas. Quando se aplica tensão aos lados do diodo, há duas situações: se uma tensão maior é aplicada ao lado \"p\", então o excesso de elétrons que surge no lado \"n\" é suficiente para \"romper\" a barreira de cargas e permitir passagem de corrente caso a tensão supere à da barreira. Caso uma tensão maior seja aplicada ao lado \"n\", então os elétrons que \"vêm\" do lado \"p\" são atraídos pelas lacunas do semicondutor, o que na prática aumenta a barreira de cargas da junção e bloqueia a passagem de corrente pelo diodo."
   ]
  },
  {
   "cell_type": "markdown",
   "metadata": {},
   "source": [
    "# 3)\n",
    "### a)\n",
    "&emsp;Os terminais não-inversores dos 4 AmpOps estão recebendo tensões que variam entre no mínimo $0V$ e no máximo $V+$, dependendo das resistências $Rx$, $RD$, $RC$, $RB$ e $RA$. O AmpOp superior possui a maior tensão, o inferior a menor tensão. Todos os terminais inversores estão recebendo a tensão $V_{in}$. Portanto inicialmente, em $V_{in} = 0$, os terminais inversores possuem tensão inferior e lentamente, com a variação de $V_{in}$, as tensões dos terminais inversores supera a dos não-inversores, primeiro no AmpOp de baixo, em seguida em cada um mais para cima.\n",
    "\n",
    "&emsp;Os AmpOps são todos alimentados pelas tensões $V^{+} = V+$ e $V^{-} = 0V$. Isso significa que inicialmente os comparadores estarão saturados em $V+$ e conforme $V_{in}$ supera o terminal não-inversor, saturarão em $0V$, de baixo para cima. Na saída de cada comparador, há um LED e uma resitência que separam $V_{out}$ de uma tensão $V+$. Portanto, quando $V_{out} = V+$, não haverá corrente nos LEDs. Quando $V_{out} = 0V$, haverá corrente entrando no AmpOp, do anodo para o catodo de cada LED.\n",
    "\n",
    "&emsp;A conclusão é que inicialmente todos os LEDs estarão desligados e conforme $V_{in}$ varia até $V+$ eles irão se acendendo, na ordem de baixo para cima.\n",
    "\n",
    "### b)\n",
    "&emsp;Os valores de tais resistores não alteram a tensão $V_{out}$ de saída de cada comparador nem a tensão $V+$ em seu outro terminal. A conclusão é que eles são colocados nessa posição para dissipar potência pela diferença de potencial fixa de seus terminais. Alterar tais resistências não muda as tensões (considerando os LEDs em um modelo de queda de tensão constante) em seus terminais, portanto mudará apenas a corrente que passa por elas, o que, para as finalidades do circuito em questão, fará a diferença única de alterar a intensidade do brilho dos LEDs. Quanto menor a resistência, mais corrente e maior o brilho.\n",
    "\n",
    "### c)\n",
    "&emsp;Idealmente, $Rx$, $RD$, $RC$, $RB$ e $RA$ estão em série e formam um divisor de tensões. Alterar a resitência de $Rx$ alterará a forma que a tensão em todos os terminais não-inversores de AmpOp é dividida, apesar de manter as hierarquias (menores tensões em baixo, maiores tensões em cima) e limites das tensões (entre $0V$ e $V+$)."
   ]
  },
  {
   "cell_type": "markdown",
   "metadata": {},
   "source": [
    "# 4)\n",
    "\n",
    "### Imagens do circuito/ gráficos no final do documento!\n",
    "\n",
    "&emsp;Considere $Op1$ o AmpOp mais abaixo e $Op4$ o mais acima. Considere $v^{+}_{Op1}$ a tensão no terminal não-inversor do AmpOp 1 e assim por diante. Pela fórmula de divisão de tensões, com $V+ = 15V$, teremos:\n",
    "\n",
    "$v^{+}_{Op1} = 15 \\cdot (RA) / (RA + RB + RC + RD + Rx)$\n",
    "\n",
    "$v^{+}_{Op2} = 15 \\cdot (RA + RB) / (RA + RB + RC + RD + Rx)$\n",
    "\n",
    "$v^{+}_{Op3} = 15 \\cdot (RA + RB + RC) / (RA + RB + RC + RD + Rx)$\n",
    "\n",
    "$v^{+}_{Op4} = 15 \\cdot (RA + RB + RC + RD) / (RA + RB + RC + RD + Rx)$\n",
    "\n",
    "&emsp;Uma boa escolha de valores para que os LEDs acendam segundo a especificação do enunciado seria:\n",
    "\n",
    "$v^{+}_{Op1} = 3V$\n",
    "\n",
    "$v^{+}_{Op2} = 6V$\n",
    "\n",
    "$v^{+}_{Op3} = 9V$\n",
    "\n",
    "$v^{+}_{Op4} = 12V$\n",
    "\n",
    "&emsp;Para que isso ocorra, note que basta que seja válido $RA = RB = RC = RD = Rx$! Pode-se escolher todos no mesmo valor (preferencialmente não muito alto, para que a corrente não seja tão pequena de maneira que a corrente que entra no terminal não-inversor deixe de ser desprezível).\n",
    "\n",
    "&emsp;As resistências $R1$, $R2$, $R3$ e $R4$ também podem ser escolhidas com valores iguais, para que os LEDs brilhem na mesma intensidade. Essas resitências podem ter valores maiores desde que o brilho dos LEDs possa ser enxergado.\n",
    "\n",
    "&emsp;Os comentários que realizo sobre a dimensão das resistências a serem escolhidas é especulativo, já que não tenho experiência na montagem de circuitos. Uma solução, portanto, é escolher os valores:\n",
    "\n",
    "$RA = RB = RC = RD = Rx = 500\\Omega$\n",
    "\n",
    "$R1 = R2 = R3 = R4 = 4k\\Omega$"
   ]
  },
  {
   "cell_type": "markdown",
   "metadata": {},
   "source": [
    "# 5)\n",
    "\n",
    "### Imagens do circuito/ gráficos no final do documento!\n",
    "\n",
    "&emsp;Para que a nova configuração funcione, quando $V_{in} = 0$ a tensão nas entradas inversoras deve ser superior a todas nas entradas não-inversoras, para que ao diminuir $V_{in}$ em determinado momento as tensões não-inversoras passem a exceder $V_{in}$. Para satizfazer isso, há duas soluções imediatas: mudar o terra para o terminal positivo da fonte $V+$ ou mudar a polaridade da fonte. Porém, apensa a segunda solução mantém a ordem de mudança dos comparadores: o LED de baixo deve ser o primeiro a acender, portanto o AmpOp 1 deve ter a tensão $v^{+}_{op1}$ excedendo $V_{in}$ primeiro, portanto precisa-se que $v^{+}_{op1} > v^{+}_{op2} > v^{+}_{op3} > v^{+}_{op4}$. Isso pode ser obitido invertendo a polaridade da fonte $V+$.\n",
    "\n",
    "&emsp;Ao inverter a polaridade da fonte (muda-se a tensão da fonte para $-V+$) no circuito original, deve-se também inverter a alimentação dos AmpOps: serão alimentados por $V^{-} = -V+$ e $V^{+} = 0V$.\n",
    "\n",
    "&emsp;Nessa nova configuração, $v^{-}_{op1} = V_{in}$ começa excedendo $v^{+}_{op1}$, portanto o comparador começa com saída saturada $V^{-} = -V+$. Ambos os terminais das resistências $R1$, $R2$, $R3$, $R4$ e LEDs terão essa tensão, então não haverá LED ligado, como esperado. Porém, quando o comparador saturar em $V^{+} = 0V$, a corrente tentará sair do AmpOp. Para compensar tal mudança, os LEDs devem inverter o lado anodo/catodo para que possam acender na nova configuração.\n",
    "\n",
    "### Conclusão:\n",
    "\n",
    "&emsp;Mudanças a serem feitas:\n",
    "\n",
    "- Alterar a polaridade da fonte\n",
    "- Trocar as entradas de alimentação dos comparadores\n",
    "- Inverter a direção dos LEDs"
   ]
  }
 ],
 "metadata": {
  "kernelspec": {
   "display_name": "Python 2",
   "language": "python",
   "name": "python2"
  },
  "language_info": {
   "codemirror_mode": {
    "name": "ipython",
    "version": 2
   },
   "file_extension": ".py",
   "mimetype": "text/x-python",
   "name": "python",
   "nbconvert_exporter": "python",
   "pygments_lexer": "ipython2",
   "version": "2.7.13"
  }
 },
 "nbformat": 4,
 "nbformat_minor": 2
}
