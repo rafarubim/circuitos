{
 "cells": [
  {
   "cell_type": "markdown",
   "metadata": {},
   "source": [
    "### Circuito RC\n",
    "\n",
    "Calculando resposta impulsional no capacitor:\n",
    "\n",
    "$H_C(s) = \\dfrac{1/\\tau}{s+1/\\tau} \\xrightarrow{\\mathscr{F}^{-1}} h_C(t) = e^{-\\frac1\\tau t}u(t)$"
   ]
  },
  {
   "cell_type": "markdown",
   "metadata": {},
   "source": [
    "Quando as 3 curvas no gráfico ficam muito próximas, não se pode mais confiar no funcionamento do comparador. Então o melhor é que as curvas tenham menor decaimento possível para que o funcionamento do circuito dure muito tempo após a entrada. Logo precisamos escolher o maior $\\tau = RC$ possível"
   ]
  },
  {
   "cell_type": "code",
   "execution_count": null,
   "metadata": {
    "collapsed": true
   },
   "outputs": [],
   "source": []
  }
 ],
 "metadata": {
  "kernelspec": {
   "display_name": "Python 2",
   "language": "python",
   "name": "python2"
  },
  "language_info": {
   "codemirror_mode": {
    "name": "ipython",
    "version": 2
   },
   "file_extension": ".py",
   "mimetype": "text/x-python",
   "name": "python",
   "nbconvert_exporter": "python",
   "pygments_lexer": "ipython2",
   "version": "2.7.13"
  }
 },
 "nbformat": 4,
 "nbformat_minor": 2
}
